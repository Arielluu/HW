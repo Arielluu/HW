{
  "cells": [
    {
      "cell_type": "markdown",
      "metadata": {
        "id": "view-in-github",
        "colab_type": "text"
      },
      "source": [
        "<a href=\"https://colab.research.google.com/github/Arielluu/HW/blob/main/Hw3_%E5%91%82%E6%98%93%E9%9C%96.ipynb\" target=\"_parent\"><img src=\"https://colab.research.google.com/assets/colab-badge.svg\" alt=\"Open In Colab\"/></a>"
      ]
    },
    {
      "cell_type": "markdown",
      "metadata": {
        "id": "n5azr2-xi1-8"
      },
      "source": [
        "# 第一題："
      ]
    },
    {
      "cell_type": "code",
      "execution_count": null,
      "metadata": {
        "colab": {
          "base_uri": "https://localhost:8080/"
        },
        "id": "kwpg1ZzJnNKL",
        "outputId": "f8056884-d5c9-42d9-e55f-031f39b63aea"
      },
      "outputs": [
        {
          "name": "stdout",
          "output_type": "stream",
          "text": [
            "5\n",
            "***** \n",
            "****  \n",
            "***   \n",
            "**    \n",
            "*     \n"
          ]
        }
      ],
      "source": [
        "n = int(input())\n",
        "for i in range(n):\n",
        "    for j in range(n-i):\n",
        "       print(\"*\",end=\"\")\n",
        "    for k in range(i+1):\n",
        "       print(\" \",end=\"\")\n",
        "    print()"
      ]
    },
    {
      "cell_type": "markdown",
      "metadata": {
        "id": "cuLmm6O97zTU"
      },
      "source": [
        "# 第二題"
      ]
    },
    {
      "cell_type": "code",
      "execution_count": null,
      "metadata": {
        "colab": {
          "base_uri": "https://localhost:8080/"
        },
        "id": "tI0o6tSlirJA",
        "outputId": "8d0dcd4b-db3b-49d7-c18d-9f197113ff95"
      },
      "outputs": [
        {
          "name": "stdout",
          "output_type": "stream",
          "text": [
            "5\n",
            "    *\n",
            "   **\n",
            "  ***\n",
            " ****\n",
            "*****\n"
          ]
        }
      ],
      "source": [
        "n = int(input())\n",
        "for i in range(n):\n",
        "    for j in range(n-i-1):\n",
        "        print(\" \",end=\"\")\n",
        "    for k in range(i+1):\n",
        "        print(\"*\",end=\"\")\n",
        "    print()"
      ]
    },
    {
      "cell_type": "markdown",
      "metadata": {
        "id": "10Xsi6tNurF7"
      },
      "source": [
        "# 第三題"
      ]
    },
    {
      "cell_type": "code",
      "execution_count": null,
      "metadata": {
        "colab": {
          "base_uri": "https://localhost:8080/"
        },
        "id": "DHLUu5mTIsXC",
        "outputId": "618ebfd2-d2f1-48ac-f218-683c5054524f"
      },
      "outputs": [
        {
          "output_type": "stream",
          "name": "stdout",
          "text": [
            "3\n",
            "10\n",
            "5\n",
            "29\n",
            "25.0\n"
          ]
        }
      ],
      "source": [
        "def get_distance():\n",
        "  x1 = eval(input())\n",
        "  x2 = eval(input())\n",
        "  y1 = eval(input())\n",
        "  y2 = eval(input())\n",
        "  distance = ((x1-x2)**2+(y1-y2)**2)**0.5\n",
        "  print(distance)\n",
        "get_distance()"
      ]
    },
    {
      "cell_type": "markdown",
      "metadata": {
        "id": "oaQKHMtIHi1t"
      },
      "source": [
        "# 第四題"
      ]
    },
    {
      "cell_type": "code",
      "execution_count": 8,
      "metadata": {
        "colab": {
          "base_uri": "https://localhost:8080/"
        },
        "id": "2X5xaKO_HorM",
        "outputId": "a69d8780-6e8a-480b-cb69-3e46cbead5e4"
      },
      "outputs": [
        {
          "output_type": "stream",
          "name": "stdout",
          "text": [
            "row: 5\n",
            "col: 3\n",
            "12 \n",
            "1 \n",
            "10 \n",
            "10 \n",
            "6 \n",
            "8 \n",
            "13 \n",
            "3 \n",
            "18 \n",
            "14 \n",
            "17 \n",
            "1 \n",
            "19 \n",
            "6 \n",
            "14 \n"
          ]
        }
      ],
      "source": [
        "import random\n",
        "row = int(input(\"row: \"))\n",
        "col = int(input(\"col: \"))\n",
        "\n",
        "ans = []\n",
        "for i in range(row):\n",
        "  temp =[]\n",
        "  for j in range(col):\n",
        "    temp.append(random.randint(1,20))\n",
        "  ans.append(temp)\n",
        "\n",
        "for i in range(row):\n",
        "   for j in range(col):\n",
        "     print(ans[i][j], end=\" \")\n",
        "     print() "
      ]
    }
  ],
  "metadata": {
    "colab": {
      "name": "Hw3_呂易霖.ipynb",
      "provenance": [],
      "authorship_tag": "ABX9TyMNb39PONDPYifIxCTIDoEy",
      "include_colab_link": true
    },
    "kernelspec": {
      "display_name": "Python 3",
      "name": "python3"
    },
    "language_info": {
      "name": "python"
    }
  },
  "nbformat": 4,
  "nbformat_minor": 0
}