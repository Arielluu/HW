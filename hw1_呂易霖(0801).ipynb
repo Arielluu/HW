{
  "nbformat": 4,
  "nbformat_minor": 0,
  "metadata": {
    "colab": {
      "name": "hw1_呂易霖(0801).ipynb",
      "provenance": [],
      "authorship_tag": "ABX9TyMk8ijK2oab8QRpo1ftaKmU",
      "include_colab_link": true
    },
    "kernelspec": {
      "name": "python3",
      "display_name": "Python 3"
    },
    "language_info": {
      "name": "python"
    }
  },
  "cells": [
    {
      "cell_type": "markdown",
      "metadata": {
        "id": "view-in-github",
        "colab_type": "text"
      },
      "source": [
        "<a href=\"https://colab.research.google.com/github/Arielluu/HW/blob/main/hw1_%E5%91%82%E6%98%93%E9%9C%96(0801).ipynb\" target=\"_parent\"><img src=\"https://colab.research.google.com/assets/colab-badge.svg\" alt=\"Open In Colab\"/></a>"
      ]
    },
    {
      "cell_type": "markdown",
      "source": [
        "# 第一題"
      ],
      "metadata": {
        "id": "_oWN7t8mSeBr"
      }
    },
    {
      "cell_type": "code",
      "execution_count": null,
      "metadata": {
        "id": "NLT_HIX7Q-PN",
        "colab": {
          "base_uri": "https://localhost:8080/"
        },
        "outputId": "d2fdddd3-83db-48b1-a23f-eda5d9a9a5d7"
      },
      "outputs": [
        {
          "output_type": "stream",
          "name": "stdout",
          "text": [
            "x/y=3.125\n"
          ]
        }
      ],
      "source": [
        "x = 25\n",
        "y = 8\n",
        "print(f\"x/y={x/y}\") "
      ]
    },
    {
      "cell_type": "code",
      "source": [
        "try:\n",
        "    number = int(input(\"Enter a number: \"))\n",
        "    print(f\"Your number is: {number}\")\n",
        "    \n",
        "except ValueError:\n",
        "    print(\"輸入格式錯誤，請輸入數字\")"
      ],
      "metadata": {
        "colab": {
          "base_uri": "https://localhost:8080/"
        },
        "id": "RuGgEFZWiMlH",
        "outputId": "9c05b1d5-cc76-4e8f-ad6c-e5a80ae06b79"
      },
      "execution_count": null,
      "outputs": [
        {
          "output_type": "stream",
          "name": "stdout",
          "text": [
            "Enter a number: aab\n",
            "輸入格式錯誤，請輸入數字\n"
          ]
        }
      ]
    },
    {
      "cell_type": "markdown",
      "source": [
        "# 第二題"
      ],
      "metadata": {
        "id": "898e_eayTA8D"
      }
    },
    {
      "cell_type": "code",
      "source": [
        "x = int(input(\"x: \"))\n",
        "y = int(input(\"y: \"))\n",
        "#tem = x\n",
        "# x = y\n",
        "# y = tem\n",
        "x,y = y,x\n",
        "print(f\"x: {x}, y:{y}\")\n",
        "print(f\"x*y={x*y}\")"
      ],
      "metadata": {
        "colab": {
          "base_uri": "https://localhost:8080/"
        },
        "id": "ZwK-SNaPPiD-",
        "outputId": "0109abe6-7208-4f38-b413-5b6c8ea194e1"
      },
      "execution_count": null,
      "outputs": [
        {
          "output_type": "stream",
          "name": "stdout",
          "text": [
            "x: 2\n",
            "y: 3\n",
            "x: 3, y:2\n",
            "x*y=6\n"
          ]
        }
      ]
    },
    {
      "cell_type": "markdown",
      "source": [
        "# 第三題"
      ],
      "metadata": {
        "id": "5LN87468TCz6"
      }
    },
    {
      "cell_type": "code",
      "source": [
        "import datetime\n",
        "datetime.timedelta(seconds=86400)"
      ],
      "metadata": {
        "id": "69ytl9amY7XR",
        "colab": {
          "base_uri": "https://localhost:8080/"
        },
        "outputId": "ba46ea4d-7e24-49f5-93ef-3360d6f9522f"
      },
      "execution_count": null,
      "outputs": [
        {
          "output_type": "execute_result",
          "data": {
            "text/plain": [
              "datetime.timedelta(days=1)"
            ]
          },
          "metadata": {},
          "execution_count": 1
        }
      ]
    },
    {
      "cell_type": "markdown",
      "source": [
        "# 第四題"
      ],
      "metadata": {
        "id": "5HCxgbLXTEqU"
      }
    },
    {
      "cell_type": "code",
      "source": [
        "i = 1\n",
        "while i < 20:\n",
        " print(i)\n",
        " i += 2\n"
      ],
      "metadata": {
        "colab": {
          "base_uri": "https://localhost:8080/"
        },
        "id": "79ugCshQZCXf",
        "outputId": "8a3869d7-2561-4ab1-8042-029bef9c3099"
      },
      "execution_count": null,
      "outputs": [
        {
          "output_type": "stream",
          "name": "stdout",
          "text": [
            "1\n",
            "3\n",
            "5\n",
            "7\n",
            "9\n",
            "11\n",
            "13\n",
            "15\n",
            "17\n",
            "19\n"
          ]
        }
      ]
    }
  ]
}