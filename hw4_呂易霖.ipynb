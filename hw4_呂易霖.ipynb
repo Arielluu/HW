{
  "nbformat": 4,
  "nbformat_minor": 0,
  "metadata": {
    "colab": {
      "name": "hw4_呂易霖.ipynb",
      "provenance": [],
      "authorship_tag": "ABX9TyONRS6jpi50ozH21dqB9OD3",
      "include_colab_link": true
    },
    "kernelspec": {
      "name": "python3",
      "display_name": "Python 3"
    },
    "language_info": {
      "name": "python"
    }
  },
  "cells": [
    {
      "cell_type": "markdown",
      "metadata": {
        "id": "view-in-github",
        "colab_type": "text"
      },
      "source": [
        "<a href=\"https://colab.research.google.com/github/Arielluu/HW/blob/main/hw4_%E5%91%82%E6%98%93%E9%9C%96.ipynb\" target=\"_parent\"><img src=\"https://colab.research.google.com/assets/colab-badge.svg\" alt=\"Open In Colab\"/></a>"
      ]
    },
    {
      "cell_type": "markdown",
      "source": [
        "# 第一題"
      ],
      "metadata": {
        "id": "xw6hRhY0E2Ky"
      }
    },
    {
      "cell_type": "code",
      "execution_count": 1,
      "metadata": {
        "id": "gcjo7fZCo764"
      },
      "outputs": [],
      "source": [
        "import numpy as np"
      ]
    },
    {
      "cell_type": "code",
      "source": [
        "a = np.array([[2,3,5],[5,7,8]]) \n",
        "b = np.array([[1,2],[3,10],[2,6]])\n",
        "print(np.matmul(a,b))"
      ],
      "metadata": {
        "colab": {
          "base_uri": "https://localhost:8080/"
        },
        "id": "yaeoBq6hFExo",
        "outputId": "1abc70eb-d491-4a5f-f5be-60be7c331606"
      },
      "execution_count": 4,
      "outputs": [
        {
          "output_type": "stream",
          "name": "stdout",
          "text": [
            "[[ 21  64]\n",
            " [ 42 128]]\n"
          ]
        }
      ]
    },
    {
      "cell_type": "markdown",
      "source": [
        "# 第二題"
      ],
      "metadata": {
        "id": "sSO_2VoZE4PZ"
      }
    },
    {
      "cell_type": "code",
      "source": [
        "import numpy as np"
      ],
      "metadata": {
        "id": "18uXtKmHsYXF"
      },
      "execution_count": 17,
      "outputs": []
    },
    {
      "cell_type": "code",
      "source": [
        "a = np.array([[[32,57,89,82,98,57,88,56,93,91],\n",
        "              [88,93,20,70,56,83,92,100,80,97],\n",
        "              [82,75,83,95,96,90,77,82,90,88]])\n",
        "print(np.max(a,axis=1))"
      ],
      "metadata": {
        "colab": {
          "base_uri": "https://localhost:8080/",
          "height": 137
        },
        "id": "otlgfcEso31v",
        "outputId": "b7be1f09-2fa8-4304-dbcd-9f58385a4059"
      },
      "execution_count": 20,
      "outputs": [
        {
          "output_type": "error",
          "ename": "SyntaxError",
          "evalue": "ignored",
          "traceback": [
            "\u001b[0;36m  File \u001b[0;32m\"<ipython-input-20-c26d49e6774a>\"\u001b[0;36m, line \u001b[0;32m3\u001b[0m\n\u001b[0;31m    [82,75,83,95,96,90,77,82,90,88]])\u001b[0m\n\u001b[0m                                    ^\u001b[0m\n\u001b[0;31mSyntaxError\u001b[0m\u001b[0;31m:\u001b[0m invalid syntax\n"
          ]
        }
      ]
    }
  ]
}