{
  "nbformat": 4,
  "nbformat_minor": 0,
  "metadata": {
    "colab": {
      "name": "hw2_呂易霖.ipynb",
      "provenance": [],
      "authorship_tag": "ABX9TyNt2GEEJdOwJWoyM2G/RDER",
      "include_colab_link": true
    },
    "kernelspec": {
      "name": "python3",
      "display_name": "Python 3"
    },
    "language_info": {
      "name": "python"
    }
  },
  "cells": [
    {
      "cell_type": "markdown",
      "metadata": {
        "id": "view-in-github",
        "colab_type": "text"
      },
      "source": [
        "<a href=\"https://colab.research.google.com/github/Arielluu/HW/blob/main/hw2_%E5%91%82%E6%98%93%E9%9C%96.ipynb\" target=\"_parent\"><img src=\"https://colab.research.google.com/assets/colab-badge.svg\" alt=\"Open In Colab\"/></a>"
      ]
    },
    {
      "cell_type": "markdown",
      "source": [
        "# 第一題"
      ],
      "metadata": {
        "id": "uoaFiZKapOFo"
      }
    },
    {
      "cell_type": "code",
      "execution_count": 7,
      "metadata": {
        "id": "kbdFVJT4nEAf",
        "colab": {
          "base_uri": "https://localhost:8080/"
        },
        "outputId": "2fbee135-eeec-4c45-8a0e-e69f50b77a97"
      },
      "outputs": [
        {
          "output_type": "stream",
          "name": "stdout",
          "text": [
            "10\n",
            "1+2+3+4+5+6+7+8+9+10=55\n"
          ]
        }
      ],
      "source": [
        "n = int(input())\n",
        "i = 1\n",
        "total = 0\n",
        "while i <= n:\n",
        "  if i == n:\n",
        "    print(i,end= \"=\")\n",
        "  else:\n",
        "    print(i,end= \"+\")\n",
        "  total = total + i\n",
        "  i += 1\n",
        "print(total)\n"
      ]
    },
    {
      "cell_type": "code",
      "source": [
        "n = int(input())\n",
        "i = 1\n",
        "total = 0\n",
        "while i <= n:\n",
        "  if i == n:\n",
        "    print(i,end= \"=\")\n",
        "  else:\n",
        "    print(i,end= \"+\")\n",
        "  total = total + i\n",
        "  i += 1\n",
        "print(total)"
      ],
      "metadata": {
        "colab": {
          "base_uri": "https://localhost:8080/"
        },
        "id": "OC69rk9nyR_D",
        "outputId": "2244a93e-9e6f-4636-ea57-9e2a49c6a1b4"
      },
      "execution_count": 9,
      "outputs": [
        {
          "output_type": "stream",
          "name": "stdout",
          "text": [
            "15\n",
            "1+2+3+4+5+6+7+8+9+10+11+12+13+14+15=120\n"
          ]
        }
      ]
    },
    {
      "cell_type": "markdown",
      "source": [
        "# 第二題"
      ],
      "metadata": {
        "id": "RQO38EcWpSCc"
      }
    },
    {
      "cell_type": "code",
      "source": [
        "numbers = [35, 27, 98, 100, 83, 55, 67, 120,85]\n",
        "print(numbers)"
      ],
      "metadata": {
        "colab": {
          "base_uri": "https://localhost:8080/"
        },
        "id": "XCogiT8RyWMM",
        "outputId": "d4d8e5d2-235a-456a-f79c-e57128e614dc"
      },
      "execution_count": null,
      "outputs": [
        {
          "output_type": "stream",
          "name": "stdout",
          "text": [
            "[35, 27, 98, 100, 83, 55, 67, 120, 85]\n"
          ]
        }
      ]
    },
    {
      "cell_type": "code",
      "source": [
        "target = int(input())\n",
        "ans = []\n",
        "for v in numbers:\n",
        "   if v >= target:\n",
        "    ans.append(v)\n",
        "print(ans)"
      ],
      "metadata": {
        "id": "AUYDObml0iAs",
        "colab": {
          "base_uri": "https://localhost:8080/"
        },
        "outputId": "0d8f6cb9-c21a-431d-b4fb-1e65760ec2ad"
      },
      "execution_count": null,
      "outputs": [
        {
          "output_type": "stream",
          "name": "stdout",
          "text": [
            "60\n",
            "[98, 100, 83, 67, 120, 85]\n"
          ]
        }
      ]
    },
    {
      "cell_type": "code",
      "source": [
        "numbers =[37, 58, 69,120, 38, 67, 20, 59, 62]\n",
        "print(numbers)"
      ],
      "metadata": {
        "colab": {
          "base_uri": "https://localhost:8080/"
        },
        "id": "VF7cyrxkl0pw",
        "outputId": "f796cc7b-3890-4207-8808-01b73d6ac3e4"
      },
      "execution_count": null,
      "outputs": [
        {
          "output_type": "stream",
          "name": "stdout",
          "text": [
            "[37, 58, 69, 120, 38, 67, 20, 59, 62]\n"
          ]
        }
      ]
    },
    {
      "cell_type": "code",
      "source": [
        "target = int(input())\n",
        "ans= []\n",
        "for v in numbers:\n",
        " if v >= target:\n",
        "   ans.append(v)\n",
        "print(ans)     "
      ],
      "metadata": {
        "colab": {
          "base_uri": "https://localhost:8080/"
        },
        "id": "FO2FyVd8l2vS",
        "outputId": "05c44823-e693-4014-c9ab-4cb7b8d5a4e4"
      },
      "execution_count": null,
      "outputs": [
        {
          "output_type": "stream",
          "name": "stdout",
          "text": [
            "58\n",
            "[58, 69, 120, 67, 59, 62]\n"
          ]
        }
      ]
    },
    {
      "cell_type": "markdown",
      "source": [
        "# 第三題"
      ],
      "metadata": {
        "id": "QdlpN6qqphan"
      }
    },
    {
      "cell_type": "code",
      "source": [
        "s = input()\n",
        "s = s.split()\n",
        "ans = []\n",
        "for v in s:\n",
        "    ans.append(int(v))\n",
        "print( {sum(ans)})"
      ],
      "metadata": {
        "id": "SYJugNzxxypD",
        "colab": {
          "base_uri": "https://localhost:8080/"
        },
        "outputId": "a6e24f41-3c5b-4118-a7ca-341a449fd28e"
      },
      "execution_count": 27,
      "outputs": [
        {
          "output_type": "stream",
          "name": "stdout",
          "text": [
            "32 89 100 67 52 98 84\n",
            "{522}\n"
          ]
        }
      ]
    },
    {
      "cell_type": "code",
      "source": [
        "s = input().split()\n",
        "numbers = []\n",
        "for v in s:\n",
        " numbers.append(int(v))\n",
        "print( {sum(numbers)})"
      ],
      "metadata": {
        "colab": {
          "base_uri": "https://localhost:8080/"
        },
        "id": "m2ZXMzp0ozHB",
        "outputId": "c022a95e-16ef-4597-fadd-b60baa521213"
      },
      "execution_count": null,
      "outputs": [
        {
          "output_type": "stream",
          "name": "stdout",
          "text": [
            "67 53 28 100 96 87 76 78\n",
            "{585}\n"
          ]
        }
      ]
    },
    {
      "cell_type": "markdown",
      "source": [
        "# 第四題"
      ],
      "metadata": {
        "id": "Tv2nBVsgpkWF"
      }
    },
    {
      "cell_type": "code",
      "source": [
        "s = input()\n",
        "count = 0\n",
        "for v in s:\n",
        "  if v ==\"a\":\n",
        "    count += 1\n",
        "    print(count)"
      ],
      "metadata": {
        "id": "yfNMU__CnOLq",
        "colab": {
          "base_uri": "https://localhost:8080/"
        },
        "outputId": "9d7d374d-1925-4597-aa69-b484193a9ceb"
      },
      "execution_count": 15,
      "outputs": [
        {
          "output_type": "stream",
          "name": "stdout",
          "text": [
            "acdghcacdfhcdcacddf\n",
            "1\n",
            "2\n",
            "3\n"
          ]
        }
      ]
    },
    {
      "cell_type": "code",
      "source": [
        "s = input()\n",
        "count = 0\n",
        "for v in s:\n",
        "    if v == \"a\":\n",
        "        count += 1\n",
        "print(numbers))"
      ],
      "metadata": {
        "id": "bWSBc3ULo28p"
      },
      "execution_count": null,
      "outputs": []
    }
  ]
}